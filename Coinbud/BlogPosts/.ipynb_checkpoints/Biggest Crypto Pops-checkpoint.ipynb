{
 "cells": [
  {
   "cell_type": "markdown",
   "id": "e24e2ce0",
   "metadata": {},
   "source": [
    "# Libraries"
   ]
  },
  {
   "cell_type": "code",
   "execution_count": 113,
   "id": "24154c7f",
   "metadata": {},
   "outputs": [],
   "source": [
    "import requests\n",
    "import pandas as pd\n",
    "import os\n",
    "from pprint import pprint\n",
    "import json\n",
    "from datetime import datetime\n",
    "import time"
   ]
  },
  {
   "cell_type": "markdown",
   "id": "7a33d4e2",
   "metadata": {},
   "source": [
    "# Pull price data\n",
    "- Need to access this data via API\n",
    "- Loop through coin symbols and pull price at the beginning of the year and the end of the year\n",
    "- Filter those into two different dataframes: one for the beginning one at the end of the year\n",
    "- Join those back together on the coin symbol\n",
    "- Calculate gain for the year"
   ]
  },
  {
   "cell_type": "markdown",
   "id": "2ab55e0d",
   "metadata": {},
   "source": [
    "## Set up API Call"
   ]
  },
  {
   "cell_type": "code",
   "execution_count": 114,
   "id": "2ccc34d1",
   "metadata": {},
   "outputs": [],
   "source": [
    "os.environ[\"CRYPTO_COMPARE_API_KEY\"] = \"4e48b57c70b505d20ede042423735149e958a38184cdb10f4ae092a2ce6ebcfe\"\n",
    "API_KEY = os.environ.get(\"COIN_MARKET_CAP_API_KEY\")"
   ]
  },
  {
   "cell_type": "markdown",
   "id": "75a7d70a",
   "metadata": {},
   "source": [
    "## Loop through coins and pull prices"
   ]
  },
  {
   "cell_type": "code",
   "execution_count": 115,
   "id": "3cb71af1",
   "metadata": {},
   "outputs": [],
   "source": [
    "RUN_STEP = True"
   ]
  },
  {
   "cell_type": "code",
   "execution_count": null,
   "id": "326040d8",
   "metadata": {},
   "outputs": [],
   "source": [
    "if RUN_STEP:\n",
    "    price_data = pd.DataFrame()\n",
    "    for coin in latest_price['symbol'].unique():\n",
    "        URL = f'https://min-api.cryptocompare.com/data/v2/histoday?fsym={coin}&tsym=USD&limit=365&aggregate=1'\n",
    "        r = requests.get(URL)\n",
    "        try:\n",
    "            data = json.loads(r.content)['Data']['Data']\n",
    "            df = pd.DataFrame(data)\n",
    "            df['date'] = df['time'].apply(lambda x: datetime.fromtimestamp(x)).dt.date\n",
    "            df = df[df['date'].isin([datetime.strptime('2021-01-01', '%Y-%m-%d').date(), \n",
    "                                     datetime.strptime('2021-12-31', '%Y-%m-%d').date()])]\n",
    "            df['coin'] = coin\n",
    "            price_data = price_data.append(df)\n",
    "        except KeyError:\n",
    "            continue\n",
    "\n",
    "\n",
    "price_data"
   ]
  },
  {
   "cell_type": "markdown",
   "id": "17b14d54",
   "metadata": {},
   "source": [
    "## Create a Dataset for End and Beginning of Year"
   ]
  },
  {
   "cell_type": "code",
   "execution_count": null,
   "id": "4938a625",
   "metadata": {},
   "outputs": [],
   "source": [
    "price_data = price_data[price_data['volumefrom'] > 0]"
   ]
  },
  {
   "cell_type": "code",
   "execution_count": null,
   "id": "f724a381",
   "metadata": {},
   "outputs": [],
   "source": [
    "year_begin = price_data[price_data['date'].astype(str)=='2021-01-01']\n",
    "year_begin = year_begin[['coin', 'open']]\n",
    "year_begin.columns = ['coin', 'price_year_begin']"
   ]
  },
  {
   "cell_type": "code",
   "execution_count": null,
   "id": "7bcca16d",
   "metadata": {},
   "outputs": [],
   "source": [
    "year_end = price_data[price_data['date'].astype(str)=='2021-12-31']\n",
    "year_end = year_end[['coin', 'open']]\n",
    "year_end.columns = ['coin', 'price_year_end']"
   ]
  },
  {
   "cell_type": "markdown",
   "id": "c8d40c26",
   "metadata": {},
   "source": [
    "## Combine"
   ]
  },
  {
   "cell_type": "code",
   "execution_count": null,
   "id": "5f4b1cc8",
   "metadata": {},
   "outputs": [],
   "source": [
    "combined = pd.merge(year_begin, year_end, how='inner', on='coin')\n",
    "combined.head()"
   ]
  },
  {
   "cell_type": "markdown",
   "id": "e1dfd694",
   "metadata": {},
   "source": [
    "# Calculate Price Delta for Year"
   ]
  },
  {
   "cell_type": "code",
   "execution_count": null,
   "id": "e0e20b1b",
   "metadata": {},
   "outputs": [],
   "source": [
    "combined['pct_gain'] = (combined['price_year_end'] / combined['price_year_begin']) - 1"
   ]
  },
  {
   "cell_type": "code",
   "execution_count": null,
   "id": "6591c86f",
   "metadata": {},
   "outputs": [],
   "source": [
    "combined.sort_values(by='pct_gain', ascending=False, inplace=True)"
   ]
  },
  {
   "cell_type": "code",
   "execution_count": null,
   "id": "a7ab2c9f",
   "metadata": {},
   "outputs": [],
   "source": [
    "combined"
   ]
  }
 ],
 "metadata": {
  "kernelspec": {
   "display_name": "Python 3 (ipykernel)",
   "language": "python",
   "name": "python3"
  },
  "language_info": {
   "codemirror_mode": {
    "name": "ipython",
    "version": 3
   },
   "file_extension": ".py",
   "mimetype": "text/x-python",
   "name": "python",
   "nbconvert_exporter": "python",
   "pygments_lexer": "ipython3",
   "version": "3.9.9"
  }
 },
 "nbformat": 4,
 "nbformat_minor": 5
}
